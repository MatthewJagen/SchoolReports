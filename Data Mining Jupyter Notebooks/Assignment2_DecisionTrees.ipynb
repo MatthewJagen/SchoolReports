{
 "cells": [
  {
   "cell_type": "markdown",
   "metadata": {},
   "source": [
    "#### This assignment may be worked individually or in pairs. Enter your name/names here:\n",
    "    "
   ]
  },
  {
   "cell_type": "code",
   "execution_count": 267,
   "metadata": {},
   "outputs": [],
   "source": [
    "#names here\n",
    "# Matthew Jagen"
   ]
  },
  {
   "cell_type": "markdown",
   "metadata": {
    "collapsed": true
   },
   "source": [
    "# Assignment 1: Decision Trees\n",
    "\n",
    "In this assignment we'll implement the Decision Tree algorithm to classify patients as either having or not having diabetic retinopathy. For this task we'll be using the Diabetic Retinopathy data set, which contains features from the Messidor image set to predict whether an image contains signs of diabetic retinopathy or not. This dataset has `1150` records and `20` attributes (some categorical, some continuous). You can find additional details about the dataset [here](http://archive.ics.uci.edu/ml/datasets/Diabetic+Retinopathy+Debrecen+Data+Set)."
   ]
  },
  {
   "cell_type": "markdown",
   "metadata": {},
   "source": [
    "Attribute Information:\n",
    "\n",
    "0) The binary result of quality assessment. 0 = bad quality 1 = sufficient quality.\n",
    "\n",
    "1) The binary result of pre-screening, where 1 indicates severe retinal abnormality and 0 its lack. \n",
    "\n",
    "2-7) The results of MA detection. Each feature value stand for the number of MAs found at the confidence levels alpha = 0.5, . . . , 1, respectively. \n",
    "\n",
    "8-15) contain the same information as 2-7) for exudates. However, as exudates are represented by a set of points rather than the number of pixels constructing the lesions, these features are normalized by dividing the \n",
    "number of lesions with the diameter of the ROI to compensate different image sizes. \n",
    "\n",
    "16) The euclidean distance of the center of the macula and the center of the optic disc to provide important information regarding the patient's condition. This feature is also normalized with the diameter of the ROI.\n",
    "\n",
    "17) The diameter of the optic disc. \n",
    "\n",
    "18) The binary result of the AM/FM-based classification.\n",
    "\n",
    "19) Class label. 1 = contains signs of Diabetic Retinopathy (Accumulative label for the Messidor classes 1, 2, 3), 0 = no signs of Diabetic Retinopathy."
   ]
  },
  {
   "cell_type": "markdown",
   "metadata": {},
   "source": [
    "#### Implementation: \n",
    "The function prototypes are given to you, please don't change those. You can add additional helper functions for your convenience. \n",
    "\n",
    "*Suggestion:* The dataset is substantially big, for the purpose of easy debugging, work with a subset of the data and test your decision tree implementation on that.\n",
    "\n",
    "#### Notes:\n",
    "Parts of this assignment will be **autograded** so a couple of caveats :-\n",
    "- Entropy is calculated using log with base 2, `math.log2(x)`.\n",
    "- For continuous features ensure that the threshold value lies exactly between 2 values. For example, if for feature 2 the best split occurs between 10 and 15 then the threshold value will be set as 12.5.\n",
    "- For binary features [0/1] the threshold value will be 0.5. All values < `thresh_val` go to the left child and all values >= `thresh_val` go to the right child."
   ]
  },
  {
   "cell_type": "code",
   "execution_count": 268,
   "metadata": {},
   "outputs": [],
   "source": [
    "# Standard Headers\n",
    "# You are welcome to add additional headers if you wish\n",
    "# EXCEPT for scikit-learn... You may NOT use scikit-learn for this assignment!\n",
    "import pandas as pd\n",
    "import numpy as np\n",
    "import bisect\n",
    "from math import log2\n",
    "from random import shuffle"
   ]
  },
  {
   "cell_type": "code",
   "execution_count": 269,
   "metadata": {},
   "outputs": [],
   "source": [
    "class DataPoint:\n",
    "    def __str__(self):\n",
    "        return \"< \" + str(self.label) + \": \" + str(self.features) + \" >\"\n",
    "    def __init__(self, label, features):\n",
    "        self.label = label # the classification label of this data point\n",
    "        self.features = features"
   ]
  },
  {
   "cell_type": "markdown",
   "metadata": {},
   "source": [
    "Q1. Read data from a CSV file. Put it into a list of `DataPoints`."
   ]
  },
  {
   "cell_type": "code",
   "execution_count": 270,
   "metadata": {},
   "outputs": [],
   "source": [
    "def get_data(filename):\n",
    "    data = []\n",
    "#     your code goes here\n",
    "    dframe = pd.read_csv(filename, names=[\"0\", \"1\", \"2\", \"3\", \"4\", \"5\", \"6\", \"7\", \"8\", \"9\", \"10\", \"11\", \"12\", \"13\", \"14\", \"15\", \"16\", \"17\", \"18\", \"19\"])\n",
    "    for i in range(len(dframe)):\n",
    "        row = dframe.iloc[i]\n",
    "        dpoint = DataPoint(row.name, row.values.tolist())\n",
    "        data.append(dpoint)\n",
    "        \n",
    "    return data\n",
    "\n",
    "# print(get_data(\"messidor_features.txt\")[0])"
   ]
  },
  {
   "cell_type": "code",
   "execution_count": 271,
   "metadata": {},
   "outputs": [],
   "source": [
    "class TreeNode:\n",
    "    is_leaf = True          # boolean variable to check if the node is a leaf\n",
    "    feature_idx = None      # index that identifies the feature\n",
    "    thresh_val = None       # threshold value that splits the node\n",
    "    prediction = None       # prediction class (only valid for leaf nodes)\n",
    "    left_child = None       # left TreeNode (all values < thresh_val)\n",
    "    right_child = None      # right TreeNode (all values >= thresh_val)\n",
    "    \n",
    "    def printTree(self, level=0):    # for debugging purposes\n",
    "        if self.is_leaf:\n",
    "            print ('-'*level + 'Leaf Node:      predicts ' + str(self.prediction))\n",
    "        else:\n",
    "            print ('-'*level + 'Internal Node:  splits on feature ' \n",
    "                   + str(self.feature_idx) + ' with threshold ' + str(self.thresh_val))\n",
    "            self.left_child.printTree(level+1)\n",
    "            self.right_child.printTree(level+1)"
   ]
  },
  {
   "cell_type": "markdown",
   "metadata": {},
   "source": [
    "Q2. Implement the function `make_prediction` that takes the decision tree root and a `DataPoint` instance and returns the prediction label."
   ]
  },
  {
   "cell_type": "code",
   "execution_count": 272,
   "metadata": {},
   "outputs": [],
   "source": [
    "def make_prediction(tree_root, data_point):\n",
    "#     your code goes here\n",
    "    if tree_root.is_leaf:\n",
    "        return tree_root.prediction\n",
    "    val = data_point.features[tree_root.feature_idx]\n",
    "    if val < tree_root.thresh_val:\n",
    "        return make_prediction(tree_root.left_child, data_point)\n",
    "    if tree_root.right_child:\n",
    "        return make_prediction(tree_root.right_child, data_point)\n",
    "    return \"prediction error\""
   ]
  },
  {
   "cell_type": "markdown",
   "metadata": {},
   "source": [
    "Q3. Implement the function `split_dataset` given an input data set, a `feature_idx` and the `threshold` for the feature. `left_split` will have all values < `threshold` and `right_split` will have all values >= `threshold`."
   ]
  },
  {
   "cell_type": "code",
   "execution_count": 273,
   "metadata": {},
   "outputs": [],
   "source": [
    "def split_dataset(data, feature_idx, threshold):\n",
    "    left_split = []\n",
    "    right_split = []\n",
    "#     your code goes here\n",
    "    for point in data:\n",
    "        val = point.features[feature_idx]\n",
    "        if val < threshold:\n",
    "            left_split.append(point)\n",
    "        else:\n",
    "            right_split.append(point)\n",
    "    return (left_split, right_split)"
   ]
  },
  {
   "cell_type": "markdown",
   "metadata": {},
   "source": [
    "Q4. Implement the function `calc_entropy` to return the entropy of the input dataset."
   ]
  },
  {
   "cell_type": "code",
   "execution_count": 274,
   "metadata": {},
   "outputs": [],
   "source": [
    "def calc_entropy(data):\n",
    "    entropy = 0.0\n",
    "#     your code goes here\n",
    "    class_label_idx = 19\n",
    "    num_signs = 0\n",
    "    num_no_signs = 0\n",
    "    \n",
    "    for point in data:\n",
    "        if point.features[class_label_idx] == 0:\n",
    "            num_no_signs += 1\n",
    "        else:\n",
    "            num_signs += 1\n",
    "    total = num_signs + num_no_signs\n",
    "        \n",
    "    #check for 0s\n",
    "    if total == 0: #strange case\n",
    "        return 0.0\n",
    "    signs_entropy = 0.0\n",
    "    if num_signs > 0: #ensure no 0s inside the log\n",
    "        signs_entropy = -(num_signs/total)*log2(num_signs/total)\n",
    "    no_signs_entropy = 0.0\n",
    "    if num_no_signs > 0: #ensure no 0s inside the log\n",
    "        no_signs_entropy = -(num_no_signs/total)*log2(num_no_signs/total)\n",
    "        \n",
    "    entropy = signs_entropy + no_signs_entropy\n",
    "    \n",
    "    return entropy"
   ]
  },
  {
   "cell_type": "markdown",
   "metadata": {},
   "source": [
    "Q5. Implement the function `calc_best_threshold` which returns the best information gain and the corresponding threshold value for one feature at `feature_idx`."
   ]
  },
  {
   "cell_type": "code",
   "execution_count": 275,
   "metadata": {},
   "outputs": [],
   "source": [
    "def find_all_thresholds(data, feature_idx):\n",
    "    values = []\n",
    "    thresholds = []\n",
    "    for point in data:\n",
    "        val = point.features[feature_idx]\n",
    "        bisect.insort(values, val) #inserts values in increasing order\n",
    "    for i in range(len(values)-1):\n",
    "        if values[i] != values[i+1]:\n",
    "            threshold = (values[i+1] - values[i])/2.0 + values[i]\n",
    "            thresholds.append(threshold)\n",
    "    return thresholds\n",
    "    \n",
    "\n",
    "def calculate_split_impurity(left_split, right_split):\n",
    "    if len(left_split) == 0:\n",
    "        return calc_entropy(right_split)\n",
    "    if len(right_split) == 0:\n",
    "        return calc_entropy(left_split)\n",
    "    split_impurity = 0.0\n",
    "    total_num = 0.0\n",
    "    left_num = len(left_split)\n",
    "    left_impurity = calc_entropy(left_split)\n",
    "    right_num = len(right_split)\n",
    "    right_impurity = calc_entropy(right_split)\n",
    "    \n",
    "    total_num = left_num + right_num\n",
    "    split_impurity = (left_num/total_num)*(left_impurity) + (right_num/total_num)*(right_impurity)\n",
    "    \n",
    "    return split_impurity\n",
    "    \n",
    "# Calculates the gain of a split given impurity values\n",
    "def calculate_gain(impurity_parent, impurity_split):\n",
    "    return impurity_parent - impurity_split\n",
    "    \n",
    "def calc_best_threshold(data, feature_idx):\n",
    "    best_info_gain = 0.0\n",
    "    best_thresh = None\n",
    "#     your code goes here\n",
    "    parent_impurity = calc_entropy(data)\n",
    "    thresholds = find_all_thresholds(data, feature_idx)\n",
    "    for threshold in thresholds:\n",
    "        split_data = split_dataset(data, feature_idx, threshold)\n",
    "        split_impurity = calculate_split_impurity(split_data[0], split_data[1])\n",
    "        gain = calculate_gain(parent_impurity, split_impurity)\n",
    "        if gain > best_info_gain:\n",
    "            best_info_gain = gain\n",
    "            best_thresh = threshold\n",
    "        \n",
    "    return (best_info_gain, best_thresh)\n",
    "\n",
    "# data = get_data(\"messidor_features.txt\")\n",
    "# split_data = split_dataset(data, 6, 15)\n",
    "# print(find_all_thresholds(split_data[1], 6))\n",
    "# split_impurity = calculate_split_impurity(split_data[0], split_data[1])\n",
    "# parent_impurity = calc_entropy(data)\n",
    "# print(parent_impurity)\n",
    "# print(split_impurity)\n",
    "# print(calculate_gain(parent_impurity, split_impurity))\n",
    "# print(calc_best_threshold(data, 6))\n"
   ]
  },
  {
   "cell_type": "markdown",
   "metadata": {},
   "source": [
    "Q6. Implement the function `identify_best_split` which returns the best feature to split on for an input dataset, and also returns the corresponding threshold value."
   ]
  },
  {
   "cell_type": "code",
   "execution_count": 276,
   "metadata": {},
   "outputs": [],
   "source": [
    "def identify_best_split(data):\n",
    "    if len(data) < 2:\n",
    "        return (None, None)\n",
    "    best_feature = None\n",
    "    best_thresh = None\n",
    "#     your code goes here\n",
    "    best_gain = 0.0\n",
    "    for i in range(len(data[0].features) - 1): #last feature is the class label\n",
    "        feature_gain, feature_thresh = calc_best_threshold(data, i)\n",
    "        if feature_gain > best_gain:\n",
    "            best_gain = feature_gain\n",
    "            best_thresh = feature_thresh\n",
    "            best_feature = i\n",
    "    return (best_feature, best_thresh)"
   ]
  },
  {
   "cell_type": "markdown",
   "metadata": {},
   "source": [
    "Q7. Implement the function `create_leaf_node` which returns a `TreeNode` with `is_leaf=True` and `prediction` set to whichever classification occurs most in the dataset at this node."
   ]
  },
  {
   "cell_type": "code",
   "execution_count": 277,
   "metadata": {},
   "outputs": [],
   "source": [
    "def create_leaf_node(data):\n",
    "#     your code goes here\n",
    "    leaf = TreeNode()\n",
    "    leaf.is_leaf = True\n",
    "    class_label_idx = 19\n",
    "    num_signs = 0\n",
    "    num_no_signs = 0\n",
    "    \n",
    "    for point in data:\n",
    "        if point.features[class_label_idx] == 0:\n",
    "            num_no_signs += 1\n",
    "        else:\n",
    "            num_signs += 1\n",
    "    if num_no_signs > num_signs:\n",
    "        leaf.prediction = 0\n",
    "    else:\n",
    "        leaf.prediction = 1\n",
    "    \n",
    "    return leaf"
   ]
  },
  {
   "cell_type": "markdown",
   "metadata": {},
   "source": [
    "Q8. Implement the `create_decision_tree` function. `max_levels` denotes the maximum height of the tree (for example if `max_levels = 1` then the decision tree will only contain the leaf node at the root. [Hint: this is where the recursion happens.]"
   ]
  },
  {
   "cell_type": "code",
   "execution_count": 278,
   "metadata": {},
   "outputs": [],
   "source": [
    "def create_decision_tree(data, max_levels):\n",
    "#     your code goes here\n",
    "    if max_levels == 1:\n",
    "        return create_leaf_node(data)\n",
    "    if calc_entropy(data) == 0:\n",
    "        return create_leaf_node(data)\n",
    "    \n",
    "    node = TreeNode()\n",
    "    node.is_leaf = False\n",
    "    \n",
    "    feature, thresh = identify_best_split(data)\n",
    "    node.feature_idx = feature\n",
    "    node.thresh_val = thresh\n",
    "    left_data, right_data = split_dataset(data, feature, thresh)\n",
    "    \n",
    "    node.left_child = create_decision_tree(left_data, max_levels-1)\n",
    "    node.right_child = create_decision_tree(right_data, max_levels-1)\n",
    "    \n",
    "    return node\n",
    "\n",
    "# data = get_data(\"messidor_features.txt\")\n",
    "# tree = create_decision_tree(data, 5)\n",
    "# tree.printTree()"
   ]
  },
  {
   "cell_type": "markdown",
   "metadata": {},
   "source": [
    "Q9. Given a test set, the function `calc_accuracy` returns the accuracy of the classifier. You'll use the `make_prediction` function for this."
   ]
  },
  {
   "cell_type": "code",
   "execution_count": 279,
   "metadata": {},
   "outputs": [],
   "source": [
    "def calc_accuracy(tree_root, data):\n",
    "#     your code goes here\n",
    "    if len(data) == 0:\n",
    "        return 0.0\n",
    "\n",
    "    class_label_idx = 19\n",
    "    num_correct = 0.0\n",
    "    \n",
    "    for point in data:\n",
    "        prediction = make_prediction(tree_root, point)\n",
    "        if prediction == point.features[class_label_idx]:\n",
    "            num_correct += 1.0\n",
    "        \n",
    "    return num_correct/len(data)\n",
    "\n",
    "# data = get_data(\"messidor_features.txt\")\n",
    "# tree = create_decision_tree(data, 5)\n",
    "# print(calc_accuracy(tree, data))"
   ]
  },
  {
   "cell_type": "markdown",
   "metadata": {},
   "source": [
    "Q10. Keeping the `max_levels` parameter as 10, use 5-fold cross validation to measure the accuracy of the model. Print the accuracy of the model."
   ]
  },
  {
   "cell_type": "code",
   "execution_count": 280,
   "metadata": {
    "scrolled": true
   },
   "outputs": [
    {
     "name": "stdout",
     "output_type": "stream",
     "text": [
      "\n",
      "Training set size: 920\n",
      "Test set size    : 230\n",
      "Time taken: 5.0539631843566895\n",
      "The accuracy on the test set is  63.91304347826087\n",
      "\n",
      "Training set size: 920\n",
      "Test set size    : 230\n",
      "Time taken: 4.671295881271362\n",
      "The accuracy on the test set is  63.04347826086957\n",
      "\n",
      "Training set size: 920\n",
      "Test set size    : 230\n",
      "Time taken: 4.789471387863159\n",
      "The accuracy on the test set is  66.95652173913044\n",
      "\n",
      "Training set size: 920\n",
      "Test set size    : 230\n",
      "Time taken: 4.864834785461426\n",
      "The accuracy on the test set is  63.91304347826087\n",
      "\n",
      "Training set size: 920\n",
      "Test set size    : 230\n",
      "Time taken: 4.761426210403442\n",
      "The accuracy on the test set is  64.34782608695652\n",
      "\n",
      "The accuracy of the model is  64.43478260869566\n"
     ]
    }
   ],
   "source": [
    "# edit the code here - this is just a sample to get you started\n",
    "import time\n",
    "\n",
    "d = get_data(\"messidor_features.txt\")\n",
    "max_levels = 10\n",
    "num_folds = 5\n",
    "accuracies = []\n",
    "\n",
    "# Cross-Validation loop (iterate 5 times)\n",
    "for i in range(num_folds):\n",
    "    # partition data into train_set and test_set\n",
    "    partition_start_idx = int((i)*(len(d)/num_folds))\n",
    "    partition_end_idx = int((i+1)*(len(d)/num_folds))\n",
    "    test_set = d[partition_start_idx:partition_end_idx]\n",
    "    train_set_first_half = d[:partition_start_idx]\n",
    "    train_set_second_half = d[partition_end_idx:]\n",
    "    train_set = train_set_first_half + train_set_second_half\n",
    "    \n",
    "    print ('\\nTraining set size:', len(train_set))\n",
    "    print ('Test set size    :', len(test_set))\n",
    "\n",
    "    # create the decision tree\n",
    "    start = time.time()\n",
    "    tree = create_decision_tree(train_set, max_levels)\n",
    "    end = time.time()\n",
    "    print ('Time taken:', end - start)\n",
    "\n",
    "    # calculate the accuracy of the tree\n",
    "    accuracy = calc_accuracy(tree, test_set)\n",
    "    accuracies.append(accuracy)\n",
    "    print ('The accuracy on the test set is ', str(accuracy * 100.0))\n",
    "    #t.printTree()\n",
    "\n",
    "# print the accuracy of the whole model using the final estimate of generalization error\n",
    "final_accuracy = 0.0\n",
    "for a in accuracies:\n",
    "    final_accuracy += a\n",
    "final_accuracy /= len(accuracies)\n",
    "\n",
    "print ('\\nThe accuracy of the model is ', str(final_accuracy * 100.0))"
   ]
  }
 ],
 "metadata": {
  "kernelspec": {
   "display_name": "Python 3",
   "language": "python",
   "name": "python3"
  },
  "language_info": {
   "codemirror_mode": {
    "name": "ipython",
    "version": 3
   },
   "file_extension": ".py",
   "mimetype": "text/x-python",
   "name": "python",
   "nbconvert_exporter": "python",
   "pygments_lexer": "ipython3",
   "version": "3.6.9"
  }
 },
 "nbformat": 4,
 "nbformat_minor": 2
}
