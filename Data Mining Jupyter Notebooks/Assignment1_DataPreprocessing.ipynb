{
 "cells": [
  {
   "cell_type": "code",
   "execution_count": 49,
   "metadata": {},
   "outputs": [],
   "source": [
    "# Enter your name here\n",
    "# Matthew Jagen"
   ]
  },
  {
   "cell_type": "markdown",
   "metadata": {},
   "source": [
    "# Assignment 0: Data Prep\n",
    "\n",
    "One of the most important (and usually time consuming!) steps in the data science process is data pre-processing. \n",
    "\n",
    "Data prep includes:\n",
    "* Data exploration  \n",
    "* Data cleaning\n",
    "* Feature engineering\n",
    "\n",
    "In this assignment, you will do a little of each of these things. "
   ]
  },
  {
   "cell_type": "markdown",
   "metadata": {},
   "source": [
    "## Part 1: Leaf Dataset\n",
    "\n",
    "For this task we'll be using a subset of the leaf dataset created by professors from University of Porto, Portugal. This dataset consists in a collection of shape and texture features extracted from digital images of leaf specimens originating from a total of 40 different plant species, but for the purpose of this assignment we're only going to consider 4 plant species.\n",
    "\n",
    "You can find more information about the dataset [here](http://archive.ics.uci.edu/ml/datasets/Leaf).\n",
    "\n",
    "<img src=\"imgs/screen4.png\">"
   ]
  },
  {
   "cell_type": "code",
   "execution_count": 50,
   "metadata": {},
   "outputs": [
    {
     "data": {
      "text/plain": [
       "'1.1.5'"
      ]
     },
     "execution_count": 50,
     "metadata": {},
     "output_type": "execute_result"
    }
   ],
   "source": [
    "# Standard Headers\n",
    "# You are welcome to add additional headers here if you wish\n",
    "import pandas as pd\n",
    "import matplotlib.pyplot as plt\n",
    "import math\n",
    "\n",
    "# Enable inline mode for matplotlib so that Jupyter displays graphs\n",
    "%matplotlib inline\n",
    "\n",
    "pd.__version__ #print which version of pandas you're using"
   ]
  },
  {
   "cell_type": "markdown",
   "metadata": {},
   "source": [
    "Read in the dataset. You can find more on reading CSV (Comma Separated Values) data as a Pandas dataframe [here](http://pandas.pydata.org/pandas-docs/stable/generated/pandas.read_csv.html)."
   ]
  },
  {
   "cell_type": "code",
   "execution_count": 51,
   "metadata": {},
   "outputs": [
    {
     "data": {
      "text/html": [
       "<div>\n",
       "<style scoped>\n",
       "    .dataframe tbody tr th:only-of-type {\n",
       "        vertical-align: middle;\n",
       "    }\n",
       "\n",
       "    .dataframe tbody tr th {\n",
       "        vertical-align: top;\n",
       "    }\n",
       "\n",
       "    .dataframe thead th {\n",
       "        text-align: right;\n",
       "    }\n",
       "</style>\n",
       "<table border=\"1\" class=\"dataframe\">\n",
       "  <thead>\n",
       "    <tr style=\"text-align: right;\">\n",
       "      <th></th>\n",
       "      <th>class</th>\n",
       "      <th>eccentricity</th>\n",
       "      <th>aspect-ratio</th>\n",
       "      <th>elongation</th>\n",
       "      <th>solidity</th>\n",
       "      <th>stochastic-convexity</th>\n",
       "      <th>isoperimetric-factor</th>\n",
       "      <th>maximal-indentation-depth</th>\n",
       "      <th>lobedness</th>\n",
       "      <th>average-intensity</th>\n",
       "      <th>average-contrast</th>\n",
       "      <th>smoothness</th>\n",
       "      <th>third-moment</th>\n",
       "      <th>uniformity</th>\n",
       "      <th>entropy</th>\n",
       "    </tr>\n",
       "  </thead>\n",
       "  <tbody>\n",
       "    <tr>\n",
       "      <th>0</th>\n",
       "      <td>1</td>\n",
       "      <td>NaN</td>\n",
       "      <td>1.0118</td>\n",
       "      <td>0.63010</td>\n",
       "      <td>0.57134</td>\n",
       "      <td>0.81053</td>\n",
       "      <td>0.16187</td>\n",
       "      <td>0.111150</td>\n",
       "      <td>2.248600</td>\n",
       "      <td>0.027309</td>\n",
       "      <td>0.088889</td>\n",
       "      <td>0.007839</td>\n",
       "      <td>0.002273</td>\n",
       "      <td>0.000175</td>\n",
       "      <td>0.86000</td>\n",
       "    </tr>\n",
       "    <tr>\n",
       "      <th>1</th>\n",
       "      <td>4</td>\n",
       "      <td>0.99512</td>\n",
       "      <td>10.3770</td>\n",
       "      <td>0.90564</td>\n",
       "      <td>0.92135</td>\n",
       "      <td>0.99825</td>\n",
       "      <td>0.17941</td>\n",
       "      <td>0.016647</td>\n",
       "      <td>0.050433</td>\n",
       "      <td>0.020400</td>\n",
       "      <td>0.071662</td>\n",
       "      <td>0.005109</td>\n",
       "      <td>0.001266</td>\n",
       "      <td>0.000170</td>\n",
       "      <td>0.71514</td>\n",
       "    </tr>\n",
       "    <tr>\n",
       "      <th>2</th>\n",
       "      <td>3</td>\n",
       "      <td>0.19287</td>\n",
       "      <td>1.0551</td>\n",
       "      <td>0.25044</td>\n",
       "      <td>0.93641</td>\n",
       "      <td>0.99474</td>\n",
       "      <td>0.47284</td>\n",
       "      <td>0.019693</td>\n",
       "      <td>0.070581</td>\n",
       "      <td>0.055935</td>\n",
       "      <td>0.130300</td>\n",
       "      <td>0.016694</td>\n",
       "      <td>0.004583</td>\n",
       "      <td>0.000440</td>\n",
       "      <td>1.41110</td>\n",
       "    </tr>\n",
       "    <tr>\n",
       "      <th>3</th>\n",
       "      <td>1</td>\n",
       "      <td>0.52212</td>\n",
       "      <td>1.1191</td>\n",
       "      <td>0.70988</td>\n",
       "      <td>0.50678</td>\n",
       "      <td>0.64912</td>\n",
       "      <td>0.14120</td>\n",
       "      <td>0.131920</td>\n",
       "      <td>3.167400</td>\n",
       "      <td>0.025478</td>\n",
       "      <td>0.085964</td>\n",
       "      <td>0.007336</td>\n",
       "      <td>0.002179</td>\n",
       "      <td>0.000149</td>\n",
       "      <td>0.82809</td>\n",
       "    </tr>\n",
       "    <tr>\n",
       "      <th>4</th>\n",
       "      <td>3</td>\n",
       "      <td>0.33254</td>\n",
       "      <td>1.1208</td>\n",
       "      <td>0.27473</td>\n",
       "      <td>0.93625</td>\n",
       "      <td>0.99474</td>\n",
       "      <td>0.49836</td>\n",
       "      <td>0.024394</td>\n",
       "      <td>0.108300</td>\n",
       "      <td>0.108090</td>\n",
       "      <td>0.168820</td>\n",
       "      <td>0.027709</td>\n",
       "      <td>0.005981</td>\n",
       "      <td>0.001234</td>\n",
       "      <td>2.48660</td>\n",
       "    </tr>\n",
       "  </tbody>\n",
       "</table>\n",
       "</div>"
      ],
      "text/plain": [
       "   class  eccentricity  aspect-ratio  elongation  solidity  \\\n",
       "0      1           NaN        1.0118     0.63010   0.57134   \n",
       "1      4       0.99512       10.3770     0.90564   0.92135   \n",
       "2      3       0.19287        1.0551     0.25044   0.93641   \n",
       "3      1       0.52212        1.1191     0.70988   0.50678   \n",
       "4      3       0.33254        1.1208     0.27473   0.93625   \n",
       "\n",
       "   stochastic-convexity  isoperimetric-factor  maximal-indentation-depth  \\\n",
       "0               0.81053               0.16187                   0.111150   \n",
       "1               0.99825               0.17941                   0.016647   \n",
       "2               0.99474               0.47284                   0.019693   \n",
       "3               0.64912               0.14120                   0.131920   \n",
       "4               0.99474               0.49836                   0.024394   \n",
       "\n",
       "   lobedness  average-intensity  average-contrast  smoothness  third-moment  \\\n",
       "0   2.248600           0.027309          0.088889    0.007839      0.002273   \n",
       "1   0.050433           0.020400          0.071662    0.005109      0.001266   \n",
       "2   0.070581           0.055935          0.130300    0.016694      0.004583   \n",
       "3   3.167400           0.025478          0.085964    0.007336      0.002179   \n",
       "4   0.108300           0.108090          0.168820    0.027709      0.005981   \n",
       "\n",
       "   uniformity  entropy  \n",
       "0    0.000175  0.86000  \n",
       "1    0.000170  0.71514  \n",
       "2    0.000440  1.41110  \n",
       "3    0.000149  0.82809  \n",
       "4    0.001234  2.48660  "
      ]
     },
     "execution_count": 51,
     "metadata": {},
     "output_type": "execute_result"
    }
   ],
   "source": [
    "leaf_data = pd.read_csv(\"leaf.csv\")\n",
    "leaf_data.head()"
   ]
  },
  {
   "cell_type": "markdown",
   "metadata": {},
   "source": [
    "Q1. Eccentricity of the leaf is a measure of how much the shape of the leaf varies from a perfect circle. Unfortunately the dataset is missing values in the `eccentricity` column. How many missing values are there in this column?"
   ]
  },
  {
   "cell_type": "code",
   "execution_count": 52,
   "metadata": {},
   "outputs": [
    {
     "name": "stdout",
     "output_type": "stream",
     "text": [
      "The eccentricity column is missing 5 values\n"
     ]
    }
   ],
   "source": [
    "# your code goes here\n",
    "count = 0\n",
    "for val in leaf_data[\"eccentricity\"]:\n",
    "    if math.isnan(val):\n",
    "        count += 1\n",
    "print(\"The eccentricity column is missing {} values\".format(count))"
   ]
  },
  {
   "cell_type": "markdown",
   "metadata": {},
   "source": [
    "Q2. Fill in these missing values with something reasonable. Show the head of the dataframe."
   ]
  },
  {
   "cell_type": "code",
   "execution_count": 53,
   "metadata": {},
   "outputs": [
    {
     "name": "stderr",
     "output_type": "stream",
     "text": [
      "/usr/local/lib/python3.6/dist-packages/ipykernel_launcher.py:9: SettingWithCopyWarning: \n",
      "A value is trying to be set on a copy of a slice from a DataFrame\n",
      "\n",
      "See the caveats in the documentation: https://pandas.pydata.org/pandas-docs/stable/user_guide/indexing.html#returning-a-view-versus-a-copy\n",
      "  if __name__ == '__main__':\n"
     ]
    },
    {
     "data": {
      "text/html": [
       "<div>\n",
       "<style scoped>\n",
       "    .dataframe tbody tr th:only-of-type {\n",
       "        vertical-align: middle;\n",
       "    }\n",
       "\n",
       "    .dataframe tbody tr th {\n",
       "        vertical-align: top;\n",
       "    }\n",
       "\n",
       "    .dataframe thead th {\n",
       "        text-align: right;\n",
       "    }\n",
       "</style>\n",
       "<table border=\"1\" class=\"dataframe\">\n",
       "  <thead>\n",
       "    <tr style=\"text-align: right;\">\n",
       "      <th></th>\n",
       "      <th>class</th>\n",
       "      <th>eccentricity</th>\n",
       "      <th>aspect-ratio</th>\n",
       "      <th>elongation</th>\n",
       "      <th>solidity</th>\n",
       "      <th>stochastic-convexity</th>\n",
       "      <th>isoperimetric-factor</th>\n",
       "      <th>maximal-indentation-depth</th>\n",
       "      <th>lobedness</th>\n",
       "      <th>average-intensity</th>\n",
       "      <th>average-contrast</th>\n",
       "      <th>smoothness</th>\n",
       "      <th>third-moment</th>\n",
       "      <th>uniformity</th>\n",
       "      <th>entropy</th>\n",
       "    </tr>\n",
       "  </thead>\n",
       "  <tbody>\n",
       "    <tr>\n",
       "      <th>0</th>\n",
       "      <td>1</td>\n",
       "      <td>0.567526</td>\n",
       "      <td>1.0118</td>\n",
       "      <td>0.63010</td>\n",
       "      <td>0.57134</td>\n",
       "      <td>0.81053</td>\n",
       "      <td>0.16187</td>\n",
       "      <td>0.111150</td>\n",
       "      <td>2.248600</td>\n",
       "      <td>0.027309</td>\n",
       "      <td>0.088889</td>\n",
       "      <td>0.007839</td>\n",
       "      <td>0.002273</td>\n",
       "      <td>0.000175</td>\n",
       "      <td>0.86000</td>\n",
       "    </tr>\n",
       "    <tr>\n",
       "      <th>1</th>\n",
       "      <td>4</td>\n",
       "      <td>0.995120</td>\n",
       "      <td>10.3770</td>\n",
       "      <td>0.90564</td>\n",
       "      <td>0.92135</td>\n",
       "      <td>0.99825</td>\n",
       "      <td>0.17941</td>\n",
       "      <td>0.016647</td>\n",
       "      <td>0.050433</td>\n",
       "      <td>0.020400</td>\n",
       "      <td>0.071662</td>\n",
       "      <td>0.005109</td>\n",
       "      <td>0.001266</td>\n",
       "      <td>0.000170</td>\n",
       "      <td>0.71514</td>\n",
       "    </tr>\n",
       "    <tr>\n",
       "      <th>2</th>\n",
       "      <td>3</td>\n",
       "      <td>0.192870</td>\n",
       "      <td>1.0551</td>\n",
       "      <td>0.25044</td>\n",
       "      <td>0.93641</td>\n",
       "      <td>0.99474</td>\n",
       "      <td>0.47284</td>\n",
       "      <td>0.019693</td>\n",
       "      <td>0.070581</td>\n",
       "      <td>0.055935</td>\n",
       "      <td>0.130300</td>\n",
       "      <td>0.016694</td>\n",
       "      <td>0.004583</td>\n",
       "      <td>0.000440</td>\n",
       "      <td>1.41110</td>\n",
       "    </tr>\n",
       "    <tr>\n",
       "      <th>3</th>\n",
       "      <td>1</td>\n",
       "      <td>0.522120</td>\n",
       "      <td>1.1191</td>\n",
       "      <td>0.70988</td>\n",
       "      <td>0.50678</td>\n",
       "      <td>0.64912</td>\n",
       "      <td>0.14120</td>\n",
       "      <td>0.131920</td>\n",
       "      <td>3.167400</td>\n",
       "      <td>0.025478</td>\n",
       "      <td>0.085964</td>\n",
       "      <td>0.007336</td>\n",
       "      <td>0.002179</td>\n",
       "      <td>0.000149</td>\n",
       "      <td>0.82809</td>\n",
       "    </tr>\n",
       "    <tr>\n",
       "      <th>4</th>\n",
       "      <td>3</td>\n",
       "      <td>0.332540</td>\n",
       "      <td>1.1208</td>\n",
       "      <td>0.27473</td>\n",
       "      <td>0.93625</td>\n",
       "      <td>0.99474</td>\n",
       "      <td>0.49836</td>\n",
       "      <td>0.024394</td>\n",
       "      <td>0.108300</td>\n",
       "      <td>0.108090</td>\n",
       "      <td>0.168820</td>\n",
       "      <td>0.027709</td>\n",
       "      <td>0.005981</td>\n",
       "      <td>0.001234</td>\n",
       "      <td>2.48660</td>\n",
       "    </tr>\n",
       "  </tbody>\n",
       "</table>\n",
       "</div>"
      ],
      "text/plain": [
       "   class  eccentricity  aspect-ratio  elongation  solidity  \\\n",
       "0      1      0.567526        1.0118     0.63010   0.57134   \n",
       "1      4      0.995120       10.3770     0.90564   0.92135   \n",
       "2      3      0.192870        1.0551     0.25044   0.93641   \n",
       "3      1      0.522120        1.1191     0.70988   0.50678   \n",
       "4      3      0.332540        1.1208     0.27473   0.93625   \n",
       "\n",
       "   stochastic-convexity  isoperimetric-factor  maximal-indentation-depth  \\\n",
       "0               0.81053               0.16187                   0.111150   \n",
       "1               0.99825               0.17941                   0.016647   \n",
       "2               0.99474               0.47284                   0.019693   \n",
       "3               0.64912               0.14120                   0.131920   \n",
       "4               0.99474               0.49836                   0.024394   \n",
       "\n",
       "   lobedness  average-intensity  average-contrast  smoothness  third-moment  \\\n",
       "0   2.248600           0.027309          0.088889    0.007839      0.002273   \n",
       "1   0.050433           0.020400          0.071662    0.005109      0.001266   \n",
       "2   0.070581           0.055935          0.130300    0.016694      0.004583   \n",
       "3   3.167400           0.025478          0.085964    0.007336      0.002179   \n",
       "4   0.108300           0.108090          0.168820    0.027709      0.005981   \n",
       "\n",
       "   uniformity  entropy  \n",
       "0    0.000175  0.86000  \n",
       "1    0.000170  0.71514  \n",
       "2    0.000440  1.41110  \n",
       "3    0.000149  0.82809  \n",
       "4    0.001234  2.48660  "
      ]
     },
     "execution_count": 53,
     "metadata": {},
     "output_type": "execute_result"
    }
   ],
   "source": [
    "# your code goes here\n",
    "\n",
    "mean = leaf_data[\"eccentricity\"].mean()\n",
    "\n",
    "# Fill in the missing values with our calculated mean\n",
    "ec_col = leaf_data.loc[:,\"eccentricity\"]\n",
    "for i in range(len(ec_col)):\n",
    "    if math.isnan(ec_col[i]):\n",
    "        ec_col[i] = mean\n",
    "leaf_data.head()\n"
   ]
  },
  {
   "cell_type": "markdown",
   "metadata": {},
   "source": [
    "Q3. Create a scatter plot between `smoothness` and `eccentricity`. Place `smoothness` on the X axis."
   ]
  },
  {
   "cell_type": "code",
   "execution_count": 54,
   "metadata": {},
   "outputs": [
    {
     "data": {
      "text/plain": [
       "<AxesSubplot:xlabel='smoothness', ylabel='eccentricity'>"
      ]
     },
     "execution_count": 54,
     "metadata": {},
     "output_type": "execute_result"
    },
    {
     "data": {
      "image/png": "[encoded data removed]",
      "text/plain": [
       "<Figure size 432x288 with 1 Axes>"
      ]
     },
     "metadata": {
      "needs_background": "light"
     },
     "output_type": "display_data"
    }
   ],
   "source": [
    "# your code goes here\n",
    "leaf_data.plot.scatter(x='smoothness', y='eccentricity')"
   ]
  },
  {
   "cell_type": "markdown",
   "metadata": {},
   "source": [
    "Q4. Now plot the same scatter plot as Q4 but give a different color to each `class` label. What can you infer from this plot? (Provide a short answer in the form of comments.)"
   ]
  },
  {
   "cell_type": "code",
   "execution_count": 55,
   "metadata": {},
   "outputs": [
    {
     "data": {
      "image/png": "[encoded data removed]",
      "text/plain": [
       "<Figure size 432x288 with 1 Axes>"
      ]
     },
     "metadata": {
      "needs_background": "light"
     },
     "output_type": "display_data"
    }
   ],
   "source": [
    "# your code goes here -- adapted from section 2.2 in the pandas/matplotlib tutorial ipynb\n",
    "\n",
    "# separate the data by class labels\n",
    "class1 = leaf_data[leaf_data['class'] == 1]\n",
    "class2 = leaf_data[leaf_data['class'] == 2]\n",
    "class3 = leaf_data[leaf_data['class'] == 3]\n",
    "class4 = leaf_data[leaf_data['class'] == 4]\n",
    "\n",
    "# plot class 1 in blue\n",
    "plt.scatter(class1['smoothness'], \n",
    "           class1['eccentricity'], \n",
    "           c='blue', marker = 'x')\n",
    "\n",
    "# plot class 2 in green\n",
    "plt.scatter(class2['smoothness'], \n",
    "           class2['eccentricity'], \n",
    "           c='green', marker = 'x')\n",
    "\n",
    "# plot class 3 in red\n",
    "plt.scatter(class3['smoothness'], \n",
    "           class3['eccentricity'], \n",
    "           c='red', marker = 'x')\n",
    "\n",
    "# plot class 4 in yellow\n",
    "plt.scatter(class4['smoothness'], \n",
    "           class4['eccentricity'], \n",
    "           c='yellow', marker = 'x')\n",
    "\n",
    "plt.xlabel('smoothness')\n",
    "plt.ylabel('eccentricity')\n",
    "plt.show()"
   ]
  },
  {
   "cell_type": "markdown",
   "metadata": {},
   "source": [
    "Q5. Calculate the correlation coefficient between the `eccentricity` and the `smoothness` column. What does this number tell us? (Provide a short answer in the form of comments.)"
   ]
  },
  {
   "cell_type": "code",
   "execution_count": 56,
   "metadata": {},
   "outputs": [
    {
     "name": "stdout",
     "output_type": "stream",
     "text": [
      "-0.35441842207549984\n"
     ]
    }
   ],
   "source": [
    "# your code goes here\n",
    "print(ec_col.corr(leaf_data[\"smoothness\"]))\n",
    "\n",
    "# The correlation coeffecient tells us how well the two columns relate in a linear way.\n",
    "# Because the coefficient calculated was negative, the general trend is that as smoothness increases, eccentricity decreases.\n",
    "# The absolute value for the coeffecient calculated for these columns was relatively low at 0.35 (max is 1),\n",
    "#     so there isn't a significant linear relation"
   ]
  },
  {
   "cell_type": "markdown",
   "metadata": {},
   "source": [
    "Q6. Create a plot to determine if there are any outliers in the `average-contrast` attribute."
   ]
  },
  {
   "cell_type": "code",
   "execution_count": 57,
   "metadata": {},
   "outputs": [
    {
     "data": {
      "text/plain": [
       "<AxesSubplot:>"
      ]
     },
     "execution_count": 57,
     "metadata": {},
     "output_type": "execute_result"
    },
    {
     "data": {
      "image/png": "[encoded data removed]",
      "text/plain": [
       "<Figure size 432x288 with 1 Axes>"
      ]
     },
     "metadata": {
      "needs_background": "light"
     },
     "output_type": "display_data"
    }
   ],
   "source": [
    "# your code goes here\n",
    "leaf_data[\"average-contrast\"].plot(kind='box')"
   ]
  },
  {
   "cell_type": "markdown",
   "metadata": {},
   "source": [
    "Q7. Data scaling\n",
    "\n",
    "* Use `sklearn.preprocessing.StandardScaler` to standardize the dataset’s features. Call `.fit_transform` to calculate the scaled data (fit) and replace the existing data with the scaled data (transform).\n",
    "* Note that `fit_transform` returns a numpy array. Put your scaled data back into a DataFrame by doing something like this (subsitute your variable names): `scaled_data = DataFrame(numpy_array_data, columns=leaf_data.columns)`\n",
    "* Display something to show that the data has been scaled correctly (the head of the data frame, *and/or* the mean of each column which should be ~0, *and/or* the standard deviation of each column which should be ~1.)"
   ]
  },
  {
   "cell_type": "code",
   "execution_count": 58,
   "metadata": {},
   "outputs": [
    {
     "name": "stdout",
     "output_type": "stream",
     "text": [
      "Mean of scaled columns:\n",
      "class                       -6.191628e-17\n",
      "eccentricity                -2.183083e-16\n",
      "aspect-ratio                -2.241796e-17\n",
      "elongation                   2.925011e-16\n",
      "solidity                     7.985066e-16\n",
      "stochastic-convexity         5.444363e-16\n",
      "isoperimetric-factor         1.526557e-16\n",
      "maximal-indentation-depth    1.387779e-16\n",
      "lobedness                    8.113168e-17\n",
      "average-intensity            3.416071e-17\n",
      "average-contrast            -4.782499e-16\n",
      "smoothness                   8.540177e-18\n",
      "third-moment                -1.110223e-16\n",
      "uniformity                  -3.416071e-17\n",
      "entropy                     -1.110223e-16\n",
      "dtype: float64\n",
      "\n",
      "Standard Deviation of scaled columns:\n",
      "class                        1.009756\n",
      "eccentricity                 1.009756\n",
      "aspect-ratio                 1.009756\n",
      "elongation                   1.009756\n",
      "solidity                     1.009756\n",
      "stochastic-convexity         1.009756\n",
      "isoperimetric-factor         1.009756\n",
      "maximal-indentation-depth    1.009756\n",
      "lobedness                    1.009756\n",
      "average-intensity            1.009756\n",
      "average-contrast             1.009756\n",
      "smoothness                   1.009756\n",
      "third-moment                 1.009756\n",
      "uniformity                   1.009756\n",
      "entropy                      1.009756\n",
      "dtype: float64\n"
     ]
    },
    {
     "data": {
      "text/html": [
       "<div>\n",
       "<style scoped>\n",
       "    .dataframe tbody tr th:only-of-type {\n",
       "        vertical-align: middle;\n",
       "    }\n",
       "\n",
       "    .dataframe tbody tr th {\n",
       "        vertical-align: top;\n",
       "    }\n",
       "\n",
       "    .dataframe thead th {\n",
       "        text-align: right;\n",
       "    }\n",
       "</style>\n",
       "<table border=\"1\" class=\"dataframe\">\n",
       "  <thead>\n",
       "    <tr style=\"text-align: right;\">\n",
       "      <th></th>\n",
       "      <th>class</th>\n",
       "      <th>eccentricity</th>\n",
       "      <th>aspect-ratio</th>\n",
       "      <th>elongation</th>\n",
       "      <th>solidity</th>\n",
       "      <th>stochastic-convexity</th>\n",
       "      <th>isoperimetric-factor</th>\n",
       "      <th>maximal-indentation-depth</th>\n",
       "      <th>lobedness</th>\n",
       "      <th>average-intensity</th>\n",
       "      <th>average-contrast</th>\n",
       "      <th>smoothness</th>\n",
       "      <th>third-moment</th>\n",
       "      <th>uniformity</th>\n",
       "      <th>entropy</th>\n",
       "    </tr>\n",
       "  </thead>\n",
       "  <tbody>\n",
       "    <tr>\n",
       "      <th>0</th>\n",
       "      <td>-1.196975</td>\n",
       "      <td>0.000000</td>\n",
       "      <td>-0.531196</td>\n",
       "      <td>0.395212</td>\n",
       "      <td>-1.262773</td>\n",
       "      <td>-0.441095</td>\n",
       "      <td>-0.875478</td>\n",
       "      <td>1.116108</td>\n",
       "      <td>0.890913</td>\n",
       "      <td>-0.358758</td>\n",
       "      <td>-0.276976</td>\n",
       "      <td>-0.366061</td>\n",
       "      <td>-0.335186</td>\n",
       "      <td>-0.446737</td>\n",
       "      <td>-0.263256</td>\n",
       "    </tr>\n",
       "    <tr>\n",
       "      <th>1</th>\n",
       "      <td>1.470569</td>\n",
       "      <td>1.780646</td>\n",
       "      <td>1.447597</td>\n",
       "      <td>1.416854</td>\n",
       "      <td>0.559789</td>\n",
       "      <td>0.714453</td>\n",
       "      <td>-0.809227</td>\n",
       "      <td>-0.740953</td>\n",
       "      <td>-0.688901</td>\n",
       "      <td>-0.579956</td>\n",
       "      <td>-0.734593</td>\n",
       "      <td>-0.674961</td>\n",
       "      <td>-0.813314</td>\n",
       "      <td>-0.456439</td>\n",
       "      <td>-0.533339</td>\n",
       "    </tr>\n",
       "    <tr>\n",
       "      <th>2</th>\n",
       "      <td>0.581388</td>\n",
       "      <td>-1.560194</td>\n",
       "      <td>-0.522047</td>\n",
       "      <td>-1.012484</td>\n",
       "      <td>0.638209</td>\n",
       "      <td>0.692846</td>\n",
       "      <td>0.299095</td>\n",
       "      <td>-0.681097</td>\n",
       "      <td>-0.674420</td>\n",
       "      <td>0.557730</td>\n",
       "      <td>0.823063</td>\n",
       "      <td>0.635813</td>\n",
       "      <td>0.761190</td>\n",
       "      <td>0.043125</td>\n",
       "      <td>0.764238</td>\n",
       "    </tr>\n",
       "    <tr>\n",
       "      <th>3</th>\n",
       "      <td>-1.196975</td>\n",
       "      <td>-0.189086</td>\n",
       "      <td>-0.508525</td>\n",
       "      <td>0.691019</td>\n",
       "      <td>-1.598947</td>\n",
       "      <td>-1.434686</td>\n",
       "      <td>-0.953551</td>\n",
       "      <td>1.524256</td>\n",
       "      <td>1.551250</td>\n",
       "      <td>-0.417379</td>\n",
       "      <td>-0.354676</td>\n",
       "      <td>-0.423053</td>\n",
       "      <td>-0.379852</td>\n",
       "      <td>-0.496638</td>\n",
       "      <td>-0.322750</td>\n",
       "    </tr>\n",
       "    <tr>\n",
       "      <th>4</th>\n",
       "      <td>0.581388</td>\n",
       "      <td>-0.978561</td>\n",
       "      <td>-0.508165</td>\n",
       "      <td>-0.922422</td>\n",
       "      <td>0.637376</td>\n",
       "      <td>0.692846</td>\n",
       "      <td>0.395487</td>\n",
       "      <td>-0.588718</td>\n",
       "      <td>-0.647312</td>\n",
       "      <td>2.227521</td>\n",
       "      <td>1.846307</td>\n",
       "      <td>1.882116</td>\n",
       "      <td>1.424579</td>\n",
       "      <td>1.512359</td>\n",
       "      <td>2.769444</td>\n",
       "    </tr>\n",
       "  </tbody>\n",
       "</table>\n",
       "</div>"
      ],
      "text/plain": [
       "      class  eccentricity  aspect-ratio  elongation  solidity  \\\n",
       "0 -1.196975      0.000000     -0.531196    0.395212 -1.262773   \n",
       "1  1.470569      1.780646      1.447597    1.416854  0.559789   \n",
       "2  0.581388     -1.560194     -0.522047   -1.012484  0.638209   \n",
       "3 -1.196975     -0.189086     -0.508525    0.691019 -1.598947   \n",
       "4  0.581388     -0.978561     -0.508165   -0.922422  0.637376   \n",
       "\n",
       "   stochastic-convexity  isoperimetric-factor  maximal-indentation-depth  \\\n",
       "0             -0.441095             -0.875478                   1.116108   \n",
       "1              0.714453             -0.809227                  -0.740953   \n",
       "2              0.692846              0.299095                  -0.681097   \n",
       "3             -1.434686             -0.953551                   1.524256   \n",
       "4              0.692846              0.395487                  -0.588718   \n",
       "\n",
       "   lobedness  average-intensity  average-contrast  smoothness  third-moment  \\\n",
       "0   0.890913          -0.358758         -0.276976   -0.366061     -0.335186   \n",
       "1  -0.688901          -0.579956         -0.734593   -0.674961     -0.813314   \n",
       "2  -0.674420           0.557730          0.823063    0.635813      0.761190   \n",
       "3   1.551250          -0.417379         -0.354676   -0.423053     -0.379852   \n",
       "4  -0.647312           2.227521          1.846307    1.882116      1.424579   \n",
       "\n",
       "   uniformity   entropy  \n",
       "0   -0.446737 -0.263256  \n",
       "1   -0.456439 -0.533339  \n",
       "2    0.043125  0.764238  \n",
       "3   -0.496638 -0.322750  \n",
       "4    1.512359  2.769444  "
      ]
     },
     "execution_count": 58,
     "metadata": {},
     "output_type": "execute_result"
    }
   ],
   "source": [
    "import sklearn.preprocessing\n",
    "\n",
    "# your code goes here\n",
    "scaler = sklearn.preprocessing.StandardScaler()\n",
    "scaled_data = scaler.fit_transform(leaf_data.values)\n",
    "scaled_df = pd.DataFrame(scaled_data, columns=leaf_data.columns)\n",
    "\n",
    "print(\"Mean of scaled columns:\")\n",
    "print(scaled_df.mean())\n",
    "print(\"\\nStandard Deviation of scaled columns:\")\n",
    "print(scaled_df.std())\n",
    "scaled_df.head()\n"
   ]
  },
  {
   "cell_type": "markdown",
   "metadata": {},
   "source": [
    "Q8. Dimensionality reduction using PCA\n",
    "\n",
    "* Use `sklearn.decomposition.PCA` to perform PCA on the **scaled** data.\n",
    "* Set `n_components` to 0.95 and `svd_solver` to 'full', so that the PCA will reduce the number of dimensions to however many dimensionsare necessary to retain 95% of the variance. \n",
    "* Use `.fit_transform` to calculate the dimensionality reduction (fit) and to replace the existing data with the transformed data (transform). \n",
    "* Note that `fit_transform` returns a numpy array. Put the transformed data back into a Pandas DataFrame by doing something like this (subsitute your variable names): `pca_data = DataFrame(numpy_array_data)`\n",
    "* Show the head of the resulting DataFrame to make sure the dimensionality has actually been reduced."
   ]
  },
  {
   "cell_type": "code",
   "execution_count": 59,
   "metadata": {},
   "outputs": [
    {
     "data": {
      "text/html": [
       "<div>\n",
       "<style scoped>\n",
       "    .dataframe tbody tr th:only-of-type {\n",
       "        vertical-align: middle;\n",
       "    }\n",
       "\n",
       "    .dataframe tbody tr th {\n",
       "        vertical-align: top;\n",
       "    }\n",
       "\n",
       "    .dataframe thead th {\n",
       "        text-align: right;\n",
       "    }\n",
       "</style>\n",
       "<table border=\"1\" class=\"dataframe\">\n",
       "  <thead>\n",
       "    <tr style=\"text-align: right;\">\n",
       "      <th></th>\n",
       "      <th>0</th>\n",
       "      <th>1</th>\n",
       "      <th>2</th>\n",
       "      <th>3</th>\n",
       "    </tr>\n",
       "  </thead>\n",
       "  <tbody>\n",
       "    <tr>\n",
       "      <th>0</th>\n",
       "      <td>-1.913295</td>\n",
       "      <td>-1.640935</td>\n",
       "      <td>-0.125938</td>\n",
       "      <td>-0.170518</td>\n",
       "    </tr>\n",
       "    <tr>\n",
       "      <th>1</th>\n",
       "      <td>-1.334940</td>\n",
       "      <td>3.278785</td>\n",
       "      <td>-1.267546</td>\n",
       "      <td>-0.277511</td>\n",
       "    </tr>\n",
       "    <tr>\n",
       "      <th>2</th>\n",
       "      <td>2.403210</td>\n",
       "      <td>-0.254869</td>\n",
       "      <td>0.533179</td>\n",
       "      <td>1.242831</td>\n",
       "    </tr>\n",
       "    <tr>\n",
       "      <th>3</th>\n",
       "      <td>-2.673994</td>\n",
       "      <td>-2.430999</td>\n",
       "      <td>-0.447589</td>\n",
       "      <td>-0.257778</td>\n",
       "    </tr>\n",
       "    <tr>\n",
       "      <th>4</th>\n",
       "      <td>4.901103</td>\n",
       "      <td>-1.195363</td>\n",
       "      <td>-1.180374</td>\n",
       "      <td>-0.053530</td>\n",
       "    </tr>\n",
       "  </tbody>\n",
       "</table>\n",
       "</div>"
      ],
      "text/plain": [
       "          0         1         2         3\n",
       "0 -1.913295 -1.640935 -0.125938 -0.170518\n",
       "1 -1.334940  3.278785 -1.267546 -0.277511\n",
       "2  2.403210 -0.254869  0.533179  1.242831\n",
       "3 -2.673994 -2.430999 -0.447589 -0.257778\n",
       "4  4.901103 -1.195363 -1.180374 -0.053530"
      ]
     },
     "execution_count": 59,
     "metadata": {},
     "output_type": "execute_result"
    }
   ],
   "source": [
    "import sklearn.decomposition\n",
    "\n",
    "# your code goes here\n",
    "pca = sklearn.decomposition.PCA(n_components = 0.95, svd_solver='full')\n",
    "pca_data = pca.fit_transform(scaled_df)\n",
    "pca_df = pd.DataFrame(pca_data)\n",
    "\n",
    "pca_df.head()"
   ]
  },
  {
   "cell_type": "markdown",
   "metadata": {},
   "source": [
    "## Part 2: Adult Census Dataset\n",
    "\n",
    "For this task we'll be using the 1994 Adult Census Income data (`adult.csv`) collected by Ronny Kohavi and Barry Becker. This is a reasonably clean dataset with both categorical and integer attributes. The dataset consists of `32.5K` rows with 14 attributes.\n",
    "\n",
    "#### Attributes\n",
    "\n",
    "You can find a description of the dataset [here](https://archive.ics.uci.edu/ml/datasets/Adult).\n",
    "\n",
    "| Attribute Name \t\t| Type \t\t\t\t|\n",
    "| --------------------- | ----------------- |\n",
    "| age\t\t\t\t\t| continuous\t\t|\n",
    "| workclass\t\t\t\t| categorical\t\t|\n",
    "| fnlwgt\t\t\t\t| continuous\t\t|\n",
    "| education \t\t\t| categorical\t\t|\n",
    "| education-num\t\t\t| categorical\t\t|\n",
    "| marital-status\t\t| categorical\t\t|\n",
    "| occupation\t\t\t| categorical\t\t|\n",
    "| relationship\t\t\t| categorical\t\t|\n",
    "| race\t\t\t\t\t| categorical\t\t|\n",
    "| sex\t\t\t\t\t| categorical\t\t|\n",
    "| capital-gain\t\t\t| continuous\t\t|\n",
    "| capital-loss\t\t\t| continuous\t\t|\n",
    "| hours-per-week\t\t| continuous\t\t|\n",
    "| native-country\t\t| categorical\t\t|"
   ]
  },
  {
   "cell_type": "markdown",
   "metadata": {},
   "source": [
    "Read in the data. You can find more on reading CSV (Comma Separated Value) data as a Pandas dataframe [here](http://pandas.pydata.org/pandas-docs/stable/generated/pandas.read_csv.html)."
   ]
  },
  {
   "cell_type": "code",
   "execution_count": 63,
   "metadata": {},
   "outputs": [
    {
     "name": "stdout",
     "output_type": "stream",
     "text": [
      "(32561, 14)\n"
     ]
    },
    {
     "data": {
      "text/html": [
       "<div>\n",
       "<style scoped>\n",
       "    .dataframe tbody tr th:only-of-type {\n",
       "        vertical-align: middle;\n",
       "    }\n",
       "\n",
       "    .dataframe tbody tr th {\n",
       "        vertical-align: top;\n",
       "    }\n",
       "\n",
       "    .dataframe thead th {\n",
       "        text-align: right;\n",
       "    }\n",
       "</style>\n",
       "<table border=\"1\" class=\"dataframe\">\n",
       "  <thead>\n",
       "    <tr style=\"text-align: right;\">\n",
       "      <th></th>\n",
       "      <th>age</th>\n",
       "      <th>workclass</th>\n",
       "      <th>education</th>\n",
       "      <th>education-num</th>\n",
       "      <th>marital-status</th>\n",
       "      <th>occupation</th>\n",
       "      <th>relationship</th>\n",
       "      <th>race</th>\n",
       "      <th>sex</th>\n",
       "      <th>capital-gain</th>\n",
       "      <th>capital-loss</th>\n",
       "      <th>hours-per-week</th>\n",
       "      <th>native-country</th>\n",
       "      <th>income</th>\n",
       "    </tr>\n",
       "  </thead>\n",
       "  <tbody>\n",
       "    <tr>\n",
       "      <th>0</th>\n",
       "      <td>39</td>\n",
       "      <td>State-gov</td>\n",
       "      <td>Bachelors</td>\n",
       "      <td>13</td>\n",
       "      <td>Never-married</td>\n",
       "      <td>Adm-clerical</td>\n",
       "      <td>Not-in-family</td>\n",
       "      <td>White</td>\n",
       "      <td>Male</td>\n",
       "      <td>2174</td>\n",
       "      <td>0</td>\n",
       "      <td>40</td>\n",
       "      <td>United-States</td>\n",
       "      <td>&lt;=50K</td>\n",
       "    </tr>\n",
       "    <tr>\n",
       "      <th>1</th>\n",
       "      <td>50</td>\n",
       "      <td>Self-emp-not-inc</td>\n",
       "      <td>Bachelors</td>\n",
       "      <td>13</td>\n",
       "      <td>Married-civ-spouse</td>\n",
       "      <td>Exec-managerial</td>\n",
       "      <td>Husband</td>\n",
       "      <td>White</td>\n",
       "      <td>Male</td>\n",
       "      <td>0</td>\n",
       "      <td>0</td>\n",
       "      <td>13</td>\n",
       "      <td>United-States</td>\n",
       "      <td>&lt;=50K</td>\n",
       "    </tr>\n",
       "    <tr>\n",
       "      <th>2</th>\n",
       "      <td>38</td>\n",
       "      <td>Private</td>\n",
       "      <td>HS-grad</td>\n",
       "      <td>9</td>\n",
       "      <td>Divorced</td>\n",
       "      <td>Handlers-cleaners</td>\n",
       "      <td>Not-in-family</td>\n",
       "      <td>White</td>\n",
       "      <td>Male</td>\n",
       "      <td>0</td>\n",
       "      <td>0</td>\n",
       "      <td>40</td>\n",
       "      <td>United-States</td>\n",
       "      <td>&lt;=50K</td>\n",
       "    </tr>\n",
       "    <tr>\n",
       "      <th>3</th>\n",
       "      <td>53</td>\n",
       "      <td>Private</td>\n",
       "      <td>High-school</td>\n",
       "      <td>7</td>\n",
       "      <td>Married-civ-spouse</td>\n",
       "      <td>Handlers-cleaners</td>\n",
       "      <td>Husband</td>\n",
       "      <td>Black</td>\n",
       "      <td>Male</td>\n",
       "      <td>0</td>\n",
       "      <td>0</td>\n",
       "      <td>40</td>\n",
       "      <td>United-States</td>\n",
       "      <td>&lt;=50K</td>\n",
       "    </tr>\n",
       "    <tr>\n",
       "      <th>4</th>\n",
       "      <td>28</td>\n",
       "      <td>Private</td>\n",
       "      <td>Bachelors</td>\n",
       "      <td>13</td>\n",
       "      <td>Married-civ-spouse</td>\n",
       "      <td>Prof-specialty</td>\n",
       "      <td>Wife</td>\n",
       "      <td>Black</td>\n",
       "      <td>Female</td>\n",
       "      <td>0</td>\n",
       "      <td>0</td>\n",
       "      <td>40</td>\n",
       "      <td>Cuba</td>\n",
       "      <td>&lt;=50K</td>\n",
       "    </tr>\n",
       "  </tbody>\n",
       "</table>\n",
       "</div>"
      ],
      "text/plain": [
       "   age         workclass    education  education-num      marital-status  \\\n",
       "0   39         State-gov    Bachelors             13       Never-married   \n",
       "1   50  Self-emp-not-inc    Bachelors             13  Married-civ-spouse   \n",
       "2   38           Private      HS-grad              9            Divorced   \n",
       "3   53           Private  High-school              7  Married-civ-spouse   \n",
       "4   28           Private    Bachelors             13  Married-civ-spouse   \n",
       "\n",
       "          occupation   relationship   race     sex  capital-gain  \\\n",
       "0       Adm-clerical  Not-in-family  White    Male          2174   \n",
       "1    Exec-managerial        Husband  White    Male             0   \n",
       "2  Handlers-cleaners  Not-in-family  White    Male             0   \n",
       "3  Handlers-cleaners        Husband  Black    Male             0   \n",
       "4     Prof-specialty           Wife  Black  Female             0   \n",
       "\n",
       "   capital-loss  hours-per-week native-country income  \n",
       "0             0              40  United-States  <=50K  \n",
       "1             0              13  United-States  <=50K  \n",
       "2             0              40  United-States  <=50K  \n",
       "3             0              40  United-States  <=50K  \n",
       "4             0              40           Cuba  <=50K  "
      ]
     },
     "execution_count": 63,
     "metadata": {},
     "output_type": "execute_result"
    }
   ],
   "source": [
    "# add skipinitialspace=True to skip spaces after delimiter (will be required later for the map function)\n",
    "adult_data = pd.read_csv(\"adult.csv\", skipinitialspace=True)\n",
    "print(adult_data.shape)\n",
    "# show the head of the data (first 5 values)\n",
    "adult_data.head()"
   ]
  },
  {
   "cell_type": "code",
   "execution_count": 64,
   "metadata": {},
   "outputs": [
    {
     "data": {
      "text/plain": [
       "age                int64\n",
       "workclass         object\n",
       "education         object\n",
       "education-num      int64\n",
       "marital-status    object\n",
       "occupation        object\n",
       "relationship      object\n",
       "race              object\n",
       "sex               object\n",
       "capital-gain       int64\n",
       "capital-loss       int64\n",
       "hours-per-week     int64\n",
       "native-country    object\n",
       "income            object\n",
       "dtype: object"
      ]
     },
     "execution_count": 64,
     "metadata": {},
     "output_type": "execute_result"
    }
   ],
   "source": [
    "# display data types of various columns in the dataframe\n",
    "adult_data.dtypes"
   ]
  },
  {
   "cell_type": "markdown",
   "metadata": {},
   "source": [
    "Q9. Show the distribution of the dataset with respect to the `education` column (how many people have each level of education). Choose a plot that is suitable to show this."
   ]
  },
  {
   "cell_type": "code",
   "execution_count": 65,
   "metadata": {},
   "outputs": [
    {
     "data": {
      "image/png": "[encoded data removed]",
      "text/plain": [
       "<Figure size 432x288 with 1 Axes>"
      ]
     },
     "metadata": {},
     "output_type": "display_data"
    }
   ],
   "source": [
    "# your code here\n",
    "groups = adult_data.groupby(\"education\")\n",
    "plt.pie(groups.size(), labels=groups.groups)\n",
    "plt.show()"
   ]
  },
  {
   "cell_type": "markdown",
   "metadata": {},
   "source": [
    "Q10.\n",
    "* Group the `adult_data` using the `marital-status` column. You may want to look at the `groupby()` method for dataframes [here](https://pandas.pydata.org/pandas-docs/stable/generated/pandas.DataFrame.groupby.html).\n",
    "* Display the mean, median and standard deviation statistics of `hours-per-week` column for each `marital-status` category.\n",
    "* As a comment, note which marital status category has the maximum average work hours per week? Which has the most variability in work hours per week? "
   ]
  },
  {
   "cell_type": "code",
   "execution_count": 66,
   "metadata": {
    "scrolled": true
   },
   "outputs": [
    {
     "name": "stdout",
     "output_type": "stream",
     "text": [
      "Mean hours per week:\n",
      "marital-status\n",
      "Divorced                 41.246680\n",
      "Married-AF-spouse        41.130435\n",
      "Married-civ-spouse       43.284856\n",
      "Married-spouse-absent    39.669856\n",
      "Never-married            36.939998\n",
      "Separated                39.301463\n",
      "Widowed                  32.979859\n",
      "Name: hours-per-week, dtype: float64\n",
      "\n",
      "Median hours per week:\n",
      "marital-status\n",
      "Divorced                 40\n",
      "Married-AF-spouse        40\n",
      "Married-civ-spouse       40\n",
      "Married-spouse-absent    40\n",
      "Never-married            40\n",
      "Separated                40\n",
      "Widowed                  40\n",
      "Name: hours-per-week, dtype: int64\n",
      "\n",
      "Standard Deviation of hours per week:\n",
      "marital-status\n",
      "Divorced                 10.676632\n",
      "Married-AF-spouse        19.440596\n",
      "Married-civ-spouse       11.905047\n",
      "Married-spouse-absent    11.767374\n",
      "Never-married            12.432542\n",
      "Separated                10.377534\n",
      "Widowed                  14.058690\n",
      "Name: hours-per-week, dtype: float64\n"
     ]
    }
   ],
   "source": [
    "# your code here\n",
    "groups = adult_data.groupby(\"marital-status\")\n",
    "print(\"Mean hours per week:\")\n",
    "print(groups[\"hours-per-week\"].mean())\n",
    "print(\"\\nMedian hours per week:\")\n",
    "print(groups[\"hours-per-week\"].median())\n",
    "print(\"\\nStandard Deviation of hours per week:\")\n",
    "print(groups[\"hours-per-week\"].std())"
   ]
  },
  {
   "cell_type": "code",
   "execution_count": 67,
   "metadata": {},
   "outputs": [],
   "source": [
    "# Please don't change this cell!!\n",
    "continent_dict = {\n",
    "    'Cambodia' : 'Asia',\n",
    "    'Canada' : 'North-America',\n",
    "    'China' : 'Asia',\n",
    "    'Columbia' : 'South-America',\n",
    "    'Cuba' : 'North-America',\n",
    "    'Dominican-Republic' : 'North-America',\n",
    "    'Ecuador' : 'South-America',\n",
    "    'El-Salvador' : 'North-America',\n",
    "    'England' : 'Europe',\n",
    "    'France' : 'Europe',\n",
    "    'Germany' : 'Europe',\n",
    "    'Greece' : 'Europe',\n",
    "    'Guatemala' : 'North-America',\n",
    "    'Haiti' : 'North-America',\n",
    "    'Holand-Netherlands' : 'Europe',\n",
    "    'Honduras' : 'North-America',\n",
    "    'Hong' : 'Asia',\n",
    "    'Hungary' : 'Europe',\n",
    "    'India' : 'Asia',\n",
    "    'Iran' : 'Asia',\n",
    "    'Ireland' : 'Europe',\n",
    "    'Italy' : 'Europe',\n",
    "    'Jamaica' : 'North-America',\n",
    "    'Japan' : 'Asia',\n",
    "    'Laos' : 'Asia',\n",
    "    'Mexico' : 'North-America',\n",
    "    'Nicaragua' : 'North-America',\n",
    "    'Outlying-US(Guam-USVI-etc)' : 'North-America',\n",
    "    'Peru' : 'South-America',\n",
    "    'Philippines' : 'Asia',\n",
    "    'Poland' : 'Europe',\n",
    "    'Portugal' : 'Europe',\n",
    "    'Puerto-Rico' : 'North-America',\n",
    "    'Scotland' : 'Europe',\n",
    "    'South' : 'Other',\n",
    "    'Taiwan' : 'Asia',\n",
    "    'Thailand' : 'Asia',\n",
    "    'Trinadad&Tobago' : 'South-America',\n",
    "    'United-States' : 'North-America',\n",
    "    'Vietnam' : 'Asia',\n",
    "    'Yugoslavia' : 'Europe',\n",
    "    '?' : 'Other'\n",
    "}"
   ]
  },
  {
   "cell_type": "markdown",
   "metadata": {},
   "source": [
    "Q11. Using the dictionary provided above, create a new column called `continent` using the existing `native-country` column in the dataframe. You may want to look at the `map()` method for dataframes [here](https://pandas.pydata.org/pandas-docs/stable/reference/api/pandas.Series.map.html). Display the head of the new dataframe."
   ]
  },
  {
   "cell_type": "code",
   "execution_count": 68,
   "metadata": {},
   "outputs": [
    {
     "data": {
      "text/html": [
       "<div>\n",
       "<style scoped>\n",
       "    .dataframe tbody tr th:only-of-type {\n",
       "        vertical-align: middle;\n",
       "    }\n",
       "\n",
       "    .dataframe tbody tr th {\n",
       "        vertical-align: top;\n",
       "    }\n",
       "\n",
       "    .dataframe thead th {\n",
       "        text-align: right;\n",
       "    }\n",
       "</style>\n",
       "<table border=\"1\" class=\"dataframe\">\n",
       "  <thead>\n",
       "    <tr style=\"text-align: right;\">\n",
       "      <th></th>\n",
       "      <th>age</th>\n",
       "      <th>workclass</th>\n",
       "      <th>education</th>\n",
       "      <th>education-num</th>\n",
       "      <th>marital-status</th>\n",
       "      <th>occupation</th>\n",
       "      <th>relationship</th>\n",
       "      <th>race</th>\n",
       "      <th>sex</th>\n",
       "      <th>capital-gain</th>\n",
       "      <th>capital-loss</th>\n",
       "      <th>hours-per-week</th>\n",
       "      <th>native-country</th>\n",
       "      <th>continent</th>\n",
       "      <th>income</th>\n",
       "    </tr>\n",
       "  </thead>\n",
       "  <tbody>\n",
       "    <tr>\n",
       "      <th>0</th>\n",
       "      <td>39</td>\n",
       "      <td>State-gov</td>\n",
       "      <td>Bachelors</td>\n",
       "      <td>13</td>\n",
       "      <td>Never-married</td>\n",
       "      <td>Adm-clerical</td>\n",
       "      <td>Not-in-family</td>\n",
       "      <td>White</td>\n",
       "      <td>Male</td>\n",
       "      <td>2174</td>\n",
       "      <td>0</td>\n",
       "      <td>40</td>\n",
       "      <td>United-States</td>\n",
       "      <td>North-America</td>\n",
       "      <td>&lt;=50K</td>\n",
       "    </tr>\n",
       "    <tr>\n",
       "      <th>1</th>\n",
       "      <td>50</td>\n",
       "      <td>Self-emp-not-inc</td>\n",
       "      <td>Bachelors</td>\n",
       "      <td>13</td>\n",
       "      <td>Married-civ-spouse</td>\n",
       "      <td>Exec-managerial</td>\n",
       "      <td>Husband</td>\n",
       "      <td>White</td>\n",
       "      <td>Male</td>\n",
       "      <td>0</td>\n",
       "      <td>0</td>\n",
       "      <td>13</td>\n",
       "      <td>United-States</td>\n",
       "      <td>North-America</td>\n",
       "      <td>&lt;=50K</td>\n",
       "    </tr>\n",
       "    <tr>\n",
       "      <th>2</th>\n",
       "      <td>38</td>\n",
       "      <td>Private</td>\n",
       "      <td>HS-grad</td>\n",
       "      <td>9</td>\n",
       "      <td>Divorced</td>\n",
       "      <td>Handlers-cleaners</td>\n",
       "      <td>Not-in-family</td>\n",
       "      <td>White</td>\n",
       "      <td>Male</td>\n",
       "      <td>0</td>\n",
       "      <td>0</td>\n",
       "      <td>40</td>\n",
       "      <td>United-States</td>\n",
       "      <td>North-America</td>\n",
       "      <td>&lt;=50K</td>\n",
       "    </tr>\n",
       "    <tr>\n",
       "      <th>3</th>\n",
       "      <td>53</td>\n",
       "      <td>Private</td>\n",
       "      <td>High-school</td>\n",
       "      <td>7</td>\n",
       "      <td>Married-civ-spouse</td>\n",
       "      <td>Handlers-cleaners</td>\n",
       "      <td>Husband</td>\n",
       "      <td>Black</td>\n",
       "      <td>Male</td>\n",
       "      <td>0</td>\n",
       "      <td>0</td>\n",
       "      <td>40</td>\n",
       "      <td>United-States</td>\n",
       "      <td>North-America</td>\n",
       "      <td>&lt;=50K</td>\n",
       "    </tr>\n",
       "    <tr>\n",
       "      <th>4</th>\n",
       "      <td>28</td>\n",
       "      <td>Private</td>\n",
       "      <td>Bachelors</td>\n",
       "      <td>13</td>\n",
       "      <td>Married-civ-spouse</td>\n",
       "      <td>Prof-specialty</td>\n",
       "      <td>Wife</td>\n",
       "      <td>Black</td>\n",
       "      <td>Female</td>\n",
       "      <td>0</td>\n",
       "      <td>0</td>\n",
       "      <td>40</td>\n",
       "      <td>Cuba</td>\n",
       "      <td>North-America</td>\n",
       "      <td>&lt;=50K</td>\n",
       "    </tr>\n",
       "  </tbody>\n",
       "</table>\n",
       "</div>"
      ],
      "text/plain": [
       "   age         workclass    education  education-num      marital-status  \\\n",
       "0   39         State-gov    Bachelors             13       Never-married   \n",
       "1   50  Self-emp-not-inc    Bachelors             13  Married-civ-spouse   \n",
       "2   38           Private      HS-grad              9            Divorced   \n",
       "3   53           Private  High-school              7  Married-civ-spouse   \n",
       "4   28           Private    Bachelors             13  Married-civ-spouse   \n",
       "\n",
       "          occupation   relationship   race     sex  capital-gain  \\\n",
       "0       Adm-clerical  Not-in-family  White    Male          2174   \n",
       "1    Exec-managerial        Husband  White    Male             0   \n",
       "2  Handlers-cleaners  Not-in-family  White    Male             0   \n",
       "3  Handlers-cleaners        Husband  Black    Male             0   \n",
       "4     Prof-specialty           Wife  Black  Female             0   \n",
       "\n",
       "   capital-loss  hours-per-week native-country      continent income  \n",
       "0             0              40  United-States  North-America  <=50K  \n",
       "1             0              13  United-States  North-America  <=50K  \n",
       "2             0              40  United-States  North-America  <=50K  \n",
       "3             0              40  United-States  North-America  <=50K  \n",
       "4             0              40           Cuba  North-America  <=50K  "
      ]
     },
     "execution_count": 68,
     "metadata": {},
     "output_type": "execute_result"
    }
   ],
   "source": [
    "# You will want to create a deep copy of the initial dataframe object\n",
    "# so that you can run this cell multiple times without errors.\n",
    "adult_data_copy = adult_data.copy()\n",
    "# add the new column to adult_data_copy\n",
    "# your code goes here\n",
    "continent_list = adult_data_copy[\"native-country\"].map(continent_dict)\n",
    "adult_data_copy.insert(13, \"continent\", continent_list)\n",
    "\n",
    "adult_data_copy.head()"
   ]
  },
  {
   "cell_type": "markdown",
   "metadata": {},
   "source": [
    "Q12. Create a bar graph showing the average age of adults from each continent, and show the standard deviation on the same graph.\n",
    "\n",
    "An example bar plot with standard deviation bars:\n",
    "<img src=\"imgs/screen5.png\" width=200>"
   ]
  },
  {
   "cell_type": "code",
   "execution_count": 69,
   "metadata": {},
   "outputs": [
    {
     "data": {
      "text/plain": [
       "<BarContainer object of 5 artists>"
      ]
     },
     "execution_count": 69,
     "metadata": {},
     "output_type": "execute_result"
    },
    {
     "data": {
      "image/png": "[encoded data removed]",
      "text/plain": [
       "<Figure size 432x288 with 1 Axes>"
      ]
     },
     "metadata": {
      "needs_background": "light"
     },
     "output_type": "display_data"
    }
   ],
   "source": [
    "# your code goes here\n",
    "continent_groups = adult_data_copy.groupby(\"continent\")\n",
    "continent_mean_age = continent_groups[\"age\"].mean()\n",
    "continent_std_age = continent_groups[\"age\"].std()\n",
    "plt.bar(continent_mean_age.index, continent_mean_age.values, yerr=continent_std_age.values, capsize=8)"
   ]
  },
  {
   "cell_type": "markdown",
   "metadata": {},
   "source": [
    "Q13. To reduce the dimensionality of this dataset using feature selection, which attribute or attributes would you eliminate? Explain why."
   ]
  },
  {
   "cell_type": "code",
   "execution_count": 70,
   "metadata": {},
   "outputs": [
    {
     "data": {
      "text/plain": [
       "'Explain why here (as a comment): I would first eliminate the education attribute. It is so closely tied to education-num\\nand even shows less information than education-num since, for example, an education of \"High-school\" ranges anywhere from\\nan education number of 5 to 8. I also think it would be reasonable to eliminate the relationship attribute since most cases\\nstem from some specific combination of other attributes. Such as \"husband\" and \"wife\" always being tied to relationship\\nstatus and sex. The reason I would remove the education attribute first is because of the relationship status of \"Own-child\"\\nthat cannot be inferred from other attributes.\\n\\n'"
      ]
     },
     "execution_count": 70,
     "metadata": {},
     "output_type": "execute_result"
    }
   ],
   "source": [
    "'''Explain why here (as a comment): I would first eliminate the education attribute. It is so closely tied to education-num\n",
    "and even shows less information than education-num since, for example, an education of \"High-school\" ranges anywhere from\n",
    "an education number of 5 to 8. I also think it would be reasonable to eliminate the relationship attribute since most cases\n",
    "stem from some specific combination of other attributes. Such as \"husband\" and \"wife\" always being tied to relationship\n",
    "status and sex. The reason I would remove the education attribute first is because of the relationship status of \"Own-child\"\n",
    "that cannot be inferred from other attributes.\n",
    "\n",
    "'''"
   ]
  },
  {
   "cell_type": "code",
   "execution_count": null,
   "metadata": {},
   "outputs": [],
   "source": []
  }
 ],
 "metadata": {
  "kernelspec": {
   "display_name": "Python 3",
   "language": "python",
   "name": "python3"
  },
  "language_info": {
   "codemirror_mode": {
    "name": "ipython",
    "version": 3
   },
   "file_extension": ".py",
   "mimetype": "text/x-python",
   "name": "python",
   "nbconvert_exporter": "python",
   "pygments_lexer": "ipython3",
   "version": "3.6.9"
  }
 },
 "nbformat": 4,
 "nbformat_minor": 2
}
